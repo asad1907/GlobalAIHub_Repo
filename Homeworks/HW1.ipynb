{
 "cells": [
  {
   "cell_type": "markdown",
   "metadata": {},
   "source": [
    "#### 1) Makine Öğrenimini nasıl tanımlarsınız?"
   ]
  },
  {
   "cell_type": "raw",
   "metadata": {},
   "source": [
    "-- Makine öğrenimi bigisayarların insanlar gibi kendi kendine deneyimlerden oğrenmesini ve gelişmesini sağlayan Yapay Zekanın bir alt dalıdır. Makine oğrenimi sayesine bilgisayarlar kazandığı deneyimlere dayanarak yeni eylemlerle ilgili tahminler sunar.  "
   ]
  },
  {
   "cell_type": "code",
   "execution_count": null,
   "metadata": {},
   "outputs": [],
   "source": []
  },
  {
   "cell_type": "markdown",
   "metadata": {},
   "source": [
    "#### 2) Denetimli ve Denetimsiz Öğrenim arasındaki farklar nelerdir? Bunların her biri için örnek 3 algoritma yazınız ve nasıl çalıştıkları hakkında kısaca bilgi veriniz."
   ]
  },
  {
   "cell_type": "raw",
   "metadata": {},
   "source": [
    "-- Denetimli Öğrenmede veriler girdiler ve cıktılardan oluşmaktadır. Burada amaç girdi ile çıktı arasındakı ilişkiyi bulmaktır. Yani bir Denetimli Makine Öğrenimi modeli verisetindeki girdiler ve çıkyılar rasındakı ilişiyi öğrendikten sonra yeni gelen girdilere karşılık gelen çıktıları tahminetmeye çalışır. Denetimli Öğrenme Regresyon ve Sınıflandırma olmak üzere ikiye ayrılır. Bunlara örnek olarak Decision Trees, Random Forest ve Linear Regression gibi algoritmaları örnek gösterebiliriz. \n",
    "Decision Tree hem Regresyon hem de Sınıflandırma problem için kullanılan ağaç tabanlı bir algoritmadır. Kök, Düğümler ve Yapraklardan oluşmaktadır. Ağaclar verisetindeki özelliklerin önemlilik sırasına gore bölünmektedir. \n",
    "\n",
    "Random Forest de hem Regresyon hem de Sınıflandırma problem için kullanılan toplu öğrenme algoritmasıdır. Random Forests birden fazla Decision Tree'lerden oluşmaktadır. Bu Decision Tree'ler ayrı ayrılıkta tahminde bulunduktan sonra Regresyon problemi için bu tahminlerin ortalaması, Sınıflandırma problemleri için ise en fazla oy alan sınıf Random Forest'in tahmini olmuş oluyor.\n",
    "\n",
    "Linear Regression sadece Regresyon problemlerinde kullanılıyor ve Regresyon modelleri arasında en basiti aynı zamanda da yorumlanabilmesi en kolay olanıdır. Burada \n",
    "\n",
    "\n",
    "\n",
    "Denetimli Öğrenmeden farklı olarak Denetimsiz Öğrenmede veriler sadece girdilerden oluşmaktatdır ve amacı veri içerisindeki gizli ilişkini bularak gruplama yapmaktır. Denetimsiz Öğrenmeye K-Means algoritmasını örnek gösterebiliriz.\n",
    "\n",
    "K-Means bir kümeleme algoritmasıdır. Belirlenmiş K tane merkez noktaları seçiliyor ve tüm örneklerle bu merkez noktaları arasındakı uzaklıklar hesaplanır. Örnekler en yakın oldukarı merkezlere göre kümelere ayrılır. Bundan sonra her küme için yeni merkez noktalar belirlenir ve örnekler yeniden bu merkez noktalarına göre kümelere ayrılır."
   ]
  },
  {
   "cell_type": "code",
   "execution_count": null,
   "metadata": {},
   "outputs": [],
   "source": []
  },
  {
   "cell_type": "markdown",
   "metadata": {},
   "source": [
    "#### 3) Eğitim, test ve doğrulama seti nedir ve neden onları kullanmamız gerekir?"
   ]
  },
  {
   "cell_type": "raw",
   "metadata": {},
   "source": [
    "-- Yuakrıda Makine Öğrenimi Modellerinin deneyimlerden öğrendiğini söyledik. Eğitim seti modeli eğitmek için kullanılan verisetidir yani bu veriseti sayesinde modeller deneyim kazanmiş oluyor. Test seti ise Modellerin performansını degerlendirmek için kullandığımız verisetidir. Doğrulama seti modeli doğrulamak için kullanılıyor ve Eğitim seti içerisinden seçiliyor. Örneğin Eğitim seti 10 farklı parçaya bölünüyor ve model her defasında 9 parçayla eğitilip kalan 1 parçayla test ediliyor. Bu işlem sonucunda elde ettiğimiz hataların ortalamsı bulunuyor."
   ]
  },
  {
   "cell_type": "code",
   "execution_count": null,
   "metadata": {},
   "outputs": [],
   "source": []
  },
  {
   "cell_type": "markdown",
   "metadata": {},
   "source": [
    "#### 4) Temel ön işleme (pre-processing) adımları nelerdir? Bu adımları ayrıntılı olarak açıklayınız ve verilerimizi neden ön işleme sokmamız gerektiği hakkında bilgi veriniz."
   ]
  },
  {
   "cell_type": "raw",
   "metadata": {},
   "source": [
    "-- Verimizi Makine Öğrenimi modellerine sokmazdan önce onu uyğun şekile getirmek için Yinelenen Gözlemlerin, Eksik Gözlemlerin, Aykırı Gözlemlerin temizlenmesi, Özellik Seçimi gibi bazı Preprocessing adımlarını uygulamamız gerekiyor. Bu adımların uygulanmaması durumu model yanılmasına sebeb olacaktır ve modelimizin performası oldukça düşük olacaktır.\n",
    "\n",
    "Yinelenen Gözlemler verisetimizde tekrar eden gözlemler anlamına gelmektedir ve biz onları silmekle yinelemelerden kurtulmuş oluruz.\n",
    "\n",
    "Eksik Gözlemler verisetimizde eksik değerlerin olduğu satırlar ya da sütunlar anlamına gelir. Biz onları en basitinden silebiliriz ya da sıfırlar, ortalama, median gibi değerlerle doldurabiliriz\n",
    "\n",
    "Aykırı Gözlemler verisetimizde aykırı değerlerin olduğu satırlar ya da sütunlar anlamına gelir. Eksik Gözlemlerde olduğu gibi burada da en basitinden Aykırı Gözlemleri verisetimizden silebilir ya da belirleyeceğimiz değerlerle değiştirebiliriz. Burada başka bir yaklaşim olan Baskılamak yöntemi ile aykırı değerleri Quantile'lar kullanarak alt sınıra ya da üst sınıra eşitleyebiliriz\n",
    "\n",
    "\n",
    "Özellik Seçimi de model kurarken dikkat etmemiz gereken konulardan bir tanesidir. Veriseti içerisinde değişkenler arasındakı ilişkini incelememiz lazım. Bunun için correlasion analizi yaparak hangi degişkenlerin seçileceğine kararverebiliriz."
   ]
  },
  {
   "cell_type": "code",
   "execution_count": null,
   "metadata": {},
   "outputs": [],
   "source": []
  },
  {
   "cell_type": "markdown",
   "metadata": {},
   "source": [
    "#### 5) Sürekli (continuous) ve ayrık (discrete) değişkenleri nasıl belirleyebilir ve analiz edebilirsiniz?"
   ]
  },
  {
   "cell_type": "raw",
   "metadata": {},
   "source": [
    "-- Sürekli değişkenler ölçülebilir sayıları temsil edeiyor. Örneğin suyun hacmi ve ya ağırlığı, insan boyu ve ya ağırlığı gibi.\n",
    "Ayrık değişkenler ise sayıları temsil eder. Örneğin bir kolleksiyondakı nesnelerin sayısı, bir odadakı insanların sayısı.\n",
    "Sürekli değişkenleri Histogram görselleştirme tekniği, Ayrık değişkenleri ise Bar Graph görselleştirme tekniği ile analiz edebiliriz\n"
   ]
  },
  {
   "cell_type": "code",
   "execution_count": null,
   "metadata": {},
   "outputs": [],
   "source": []
  },
  {
   "cell_type": "markdown",
   "metadata": {},
   "source": [
    "#### 6) Makine öğrenimi içinde kullanılan temel istatiksel kavramlar nelerdir?"
   ]
  },
  {
   "cell_type": "raw",
   "metadata": {},
   "source": [
    "-- Merkezi Eğilim Ölçüleri: Artimetrik Ortalama, Medyan, Mod, Kartiller\n",
    "\n",
    "Dağılım Ölçüleri: Değişim Aralığı, Standart Sapma, Varyans, Çarpıklık, Basıklık\n",
    "\n",
    "Olasılık Dağılımları: Kesikli (Discrete) (Bernulli, Binom, Poisson) , Sürekli (Continuous) (Normal, Uniform)"
   ]
  },
  {
   "cell_type": "code",
   "execution_count": null,
   "metadata": {},
   "outputs": [],
   "source": []
  },
  {
   "cell_type": "markdown",
   "metadata": {},
   "source": [
    "#### 7) Aşağıda verilen grafiği analiz ediniz. (Grafik ve değişken türü nedir, dağılımı nedir ve hangi ön işlemlerden geçmelidir?)"
   ]
  },
  {
   "cell_type": "raw",
   "metadata": {},
   "source": [
    "-- Grafik bir Histogram grafiğidir ve Sürekli (Continuous) değişkeni gorselleştirmek için kullanılmıştır. Grafik sağa çarpıktır va verisetimiz aykırı gözlemlerden temizlenmelidir"
   ]
  },
  {
   "cell_type": "code",
   "execution_count": null,
   "metadata": {},
   "outputs": [],
   "source": []
  }
 ],
 "metadata": {
  "kernelspec": {
   "display_name": "Python 3",
   "language": "python",
   "name": "python3"
  },
  "language_info": {
   "codemirror_mode": {
    "name": "ipython",
    "version": 3
   },
   "file_extension": ".py",
   "mimetype": "text/x-python",
   "name": "python",
   "nbconvert_exporter": "python",
   "pygments_lexer": "ipython3",
   "version": "3.7.4"
  }
 },
 "nbformat": 4,
 "nbformat_minor": 4
}
